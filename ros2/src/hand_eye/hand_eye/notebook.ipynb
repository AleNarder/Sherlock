{
 "cells": [
  {
   "cell_type": "code",
   "execution_count": 54,
   "id": "2c5ffbfa-0375-45d1-a910-d4cf91379f57",
   "metadata": {},
   "outputs": [],
   "source": [
    "import numpy as np\n",
    "import cv2\n",
    "from minio import Minio\n",
    "from camera_intrinsic import utils as camera_utils"
   ]
  },
  {
   "cell_type": "code",
   "execution_count": 73,
   "id": "793e97ed-3d31-45a4-b3e9-fdd2d2d8e77e",
   "metadata": {},
   "outputs": [
    {
     "name": "stdout",
     "output_type": "stream",
     "text": [
      "(2129, 2)\n"
     ]
    }
   ],
   "source": [
    "data1 = np.load(\"/calibration/ros2/src/hand_eye/hand_eye/2024-07-21_16_38_38.100940.npy\", allow_pickle=True)\n",
    "data2 = np.load(\"/calibration/ros2/src/hand_eye/hand_eye/2024-07-21_16_49_35.921496.npy\", allow_pickle=True)\n",
    "data  = np.vstack((data1, data2))\n",
    "print(data.shape)\n",
    "cam_data = np.load(\"/calibration/ros2/src/hand_eye/hand_eye/intrinsic_2024-07-07_14-56-53_intrinsics (1).npz\", allow_pickle=True)\n",
    "frames, poses = data[:, 0], data[:, 1]"
   ]
  },
  {
   "cell_type": "code",
   "execution_count": 74,
   "id": "f1196e36-6ba2-4e57-8cf9-bce4667bbc2d",
   "metadata": {},
   "outputs": [
    {
     "data": {
      "text/plain": [
       "array([[ 3.10334662e-02,  6.15702392e-01,  8.31168943e-04,\n",
       "        -3.26508230e-04, -2.21216690e+00]])"
      ]
     },
     "execution_count": 74,
     "metadata": {},
     "output_type": "execute_result"
    }
   ],
   "source": [
    "cam_data[\"dist\"]"
   ]
  },
  {
   "cell_type": "code",
   "execution_count": 75,
   "id": "46c3ee1a-a74f-4642-aa95-9d68dfed40ef",
   "metadata": {},
   "outputs": [],
   "source": [
    "for frame in frames:\n",
    "    cv2.imshow(\"frame\", frame)\n",
    "    if cv2.waitKey(1) & 0xFF == 27:  # 27 is the ASCII code for 'ESC'\n",
    "        break\n",
    "cv2.destroyAllWindows()"
   ]
  },
  {
   "cell_type": "code",
   "execution_count": 79,
   "id": "d4f7c45e-fb25-43ec-a932-7b6846354d52",
   "metadata": {},
   "outputs": [
    {
     "name": "stdout",
     "output_type": "stream",
     "text": [
      "Selecting sharp frames out of 2129 frames\n",
      "Found 551 sharp frames out of 2129 with threshold 280\n",
      "Selecting 60 representative frames out of 551 frames\n",
      "Reduced frames from 110592 to 57 dimensions keeping 95.0 of variance\n",
      "Selected 60 representative frames out of 276 frames\n"
     ]
    }
   ],
   "source": [
    "# Get sharp frames, blurried frames are less likely to have accurate corners\n",
    "sharp_frames_idxs = camera_utils.get_sharp_frames(frames, 280)\n",
    "sharp_poses, sharp_frames  = poses[sharp_frames_idxs], frames[sharp_frames_idxs]\n",
    "\n",
    "# Only process sufficiently different frames to reduce computation time and avoid overfitting\n",
    "representative_frames_idxs = camera_utils.get_n_representative_frames(frames[sharp_frames_idxs], num_frames=60)\n",
    "\n",
    "representative_poses, representative_frames  = sharp_poses[representative_frames_idxs], sharp_frames[representative_frames_idxs]"
   ]
  },
  {
   "cell_type": "code",
   "execution_count": 80,
   "id": "a65957dc-bafd-43a6-abeb-5d98b70b0eee",
   "metadata": {},
   "outputs": [],
   "source": [
    "for frame in representative_frames:\n",
    "    cv2.imshow(\"frame\", frame)\n",
    "    cv2.waitKey(0)\n",
    "cv2.destroyAllWindows()"
   ]
  },
  {
   "cell_type": "code",
   "execution_count": 81,
   "id": "5f7b5fcb-e416-4f4c-9f27-50563313d2d1",
   "metadata": {},
   "outputs": [
    {
     "name": "stdout",
     "output_type": "stream",
     "text": [
      "Found chessboard corners in image\n",
      "Found chessboard corners in image\n",
      "Found chessboard corners in image\n",
      "Found chessboard corners in image\n",
      "Found chessboard corners in image\n",
      "Found chessboard corners in image\n",
      "Found chessboard corners in image\n",
      "Found chessboard corners in image\n",
      "Found chessboard corners in image\n",
      "Found chessboard corners in image\n",
      "Found chessboard corners in image\n",
      "Found chessboard corners in image\n",
      "Found chessboard corners in image\n",
      "Found chessboard corners in image\n",
      "Found chessboard corners in image\n",
      "Found chessboard corners in image\n",
      "Found chessboard corners in image\n",
      "Found chessboard corners in image\n",
      "Found chessboard corners in image\n",
      "Found chessboard corners in image\n",
      "Found chessboard corners in image\n",
      "Found chessboard corners in image\n",
      "Found chessboard corners in image\n",
      "Found chessboard corners in image\n",
      "Found chessboard corners in image\n",
      "Found chessboard corners in image\n",
      "Found chessboard corners in image\n",
      "Found chessboard corners in image\n",
      "Found chessboard corners in image\n",
      "Found chessboard corners in image\n",
      "Found chessboard corners in image\n",
      "Found chessboard corners in image\n",
      "Found chessboard corners in image\n",
      "Found chessboard corners in image\n",
      "Found chessboard corners in image\n",
      "Found chessboard corners in image\n",
      "Found chessboard corners in image\n",
      "Found chessboard corners in image\n",
      "Found chessboard corners in image\n",
      "Found chessboard corners in image\n",
      "Found chessboard corners in image\n",
      "Found chessboard corners in image\n",
      "Found chessboard corners in image\n",
      "Found chessboard corners in image\n",
      "Found chessboard corners in image\n",
      "Found chessboard corners in image\n",
      "Found chessboard corners in image\n",
      "Found chessboard corners in image\n",
      "Found chessboard corners in image\n",
      "Found chessboard corners in image\n",
      "Found chessboard corners in image\n",
      "Found chessboard corners in image\n",
      "Found chessboard corners in image\n",
      "Found chessboard corners in image\n",
      "[[ 0.01950566  0.99979981 -0.00445809]\n",
      " [-0.02284125 -0.00401216 -0.99973105]\n",
      " [-0.9995488   0.01960224  0.02275842]] [[-0.1128929 ]\n",
      " [14.31890694]\n",
      " [ 2.37853729]]\n"
     ]
    }
   ],
   "source": [
    "chessboard_pts = camera_utils.get_chessboard_pts((9, 6))\n",
    "\n",
    "R_gripper2base_r = []\n",
    "t_gripper2base_r = []\n",
    "R_target2cam_r   = []\n",
    "t_target2cam_r   = []\n",
    "\n",
    "for frame, pose in zip(representative_frames, representative_poses):\n",
    "    ret, corners = camera_utils.find_chessboard_corners(frame)    \n",
    "    if ret:\n",
    "        ret2, rvec, tvec = cv2.solvePnP(chessboard_pts, corners, cam_data[\"mtx\"], cam_data[\"dist\"])\n",
    "        if ret2:\n",
    "            R_gripper2base_r.append(pose[:3, :3])\n",
    "            t_gripper2base_r.append(pose[:3, 3].reshape((3, 1)))\n",
    "            \n",
    "            rot ,jacobian = cv2.Rodrigues(rvec)\n",
    "            R_target2cam_r.append(rot)\n",
    "            t_target2cam_r.append(tvec)\n",
    "\n",
    "R_cam2gripper, t_cam2gripper = cv2.calibrateHandEye(\n",
    "    R_gripper2base_r, \n",
    "    t_gripper2base_r, \n",
    "    R_target2cam_r, \n",
    "    t_target2cam_r, \n",
    "    method = cv2.CALIB_HAND_EYE_TSAI\n",
    ")\n",
    "print(R_cam2gripper, t_cam2gripper)"
   ]
  },
  {
   "cell_type": "code",
   "execution_count": 82,
   "id": "be3b949e-8f2f-44fe-b9e3-729e94d51646",
   "metadata": {},
   "outputs": [],
   "source": [
    "np.savez(\"hand_eye\", r_cam2gripper = R_cam2gripper, t_cam2gripper = t_cam2gripper)"
   ]
  },
  {
   "cell_type": "code",
   "execution_count": null,
   "id": "358657ff-e27f-430b-bb29-5c8e897dd23c",
   "metadata": {},
   "outputs": [],
   "source": []
  }
 ],
 "metadata": {
  "kernelspec": {
   "display_name": "Python 3 (ipykernel)",
   "language": "python",
   "name": "python3"
  },
  "language_info": {
   "codemirror_mode": {
    "name": "ipython",
    "version": 3
   },
   "file_extension": ".py",
   "mimetype": "text/x-python",
   "name": "python",
   "nbconvert_exporter": "python",
   "pygments_lexer": "ipython3",
   "version": "3.10.12"
  }
 },
 "nbformat": 4,
 "nbformat_minor": 5
}
