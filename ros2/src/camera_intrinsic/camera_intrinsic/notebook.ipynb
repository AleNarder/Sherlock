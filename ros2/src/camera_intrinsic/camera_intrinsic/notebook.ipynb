{
 "cells": [
  {
   "cell_type": "code",
   "execution_count": 15,
   "id": "2b8ece69-0c93-4fba-add3-0eb1657d4f81",
   "metadata": {},
   "outputs": [],
   "source": [
    "import utils\n",
    "import numpy as np\n",
    "import cv2\n",
    "from sklearn.cluster import KMeans\n",
    "import matplotlib.pyplot as plt"
   ]
  },
  {
   "cell_type": "code",
   "execution_count": 17,
   "id": "f68453d4-b999-467e-8303-1b7ed6e18311",
   "metadata": {},
   "outputs": [],
   "source": [
    "frames = np.load(\"/calibration/ros2/src/camera_intrinsic/camera_intrinsic/intrinsic_2024-07-07_14-56-53.npz\")"
   ]
  },
  {
   "cell_type": "code",
   "execution_count": 18,
   "id": "76f628f2-ae6a-4b0b-83d5-1c294311d8d0",
   "metadata": {},
   "outputs": [],
   "source": [
    "for frame in frames:\n",
    "    cv2.imshow(\"frame\", frame)\n",
    "    \n",
    "    if cv2.waitKey(1) & 0xFF == 27:  # 27 is the ASCII code for 'ESC'\n",
    "        break\n",
    "    \n",
    "cv2.destroyAllWindows()"
   ]
  },
  {
   "cell_type": "code",
   "execution_count": 19,
   "id": "48721577-2aa7-44fd-8c1d-d305be155723",
   "metadata": {},
   "outputs": [
    {
     "name": "stdout",
     "output_type": "stream",
     "text": [
      "Selecting sharp frames out of 1857 frames\n",
      "Found 386 sharp frames out of 1857 with threshold 300\n"
     ]
    }
   ],
   "source": [
    "sharp_frames = utils.get_sharp_frames(frames, threshold = 300)"
   ]
  },
  {
   "cell_type": "code",
   "execution_count": 20,
   "id": "71c71565-b94a-43b7-8ff5-5cb39b512a09",
   "metadata": {},
   "outputs": [
    {
     "name": "stdout",
     "output_type": "stream",
     "text": [
      "Selecting 30 representative frames out of 386 frames\n",
      "Reduced frames from 110592 to 37 dimensions keeping 95.0 of variance\n",
      "Selected 30 representative frames out of 193 frames\n"
     ]
    }
   ],
   "source": [
    "representative_frames = utils.get_n_representative_frames(sharp_frames, num_frames=30)"
   ]
  },
  {
   "cell_type": "code",
   "execution_count": 6,
   "id": "ff699887-38cb-4550-abbc-fd7a447d1c6a",
   "metadata": {},
   "outputs": [],
   "source": [
    "for representative_frame in representative_frames:\n",
    "    cv2.imshow(\"frame\", representative_frame)\n",
    "    cv2.waitKey(0)\n",
    "cv2.destroyAllWindows()"
   ]
  },
  {
   "cell_type": "code",
   "execution_count": 21,
   "id": "27542b55-c134-4576-b8cc-31d5268b36c2",
   "metadata": {},
   "outputs": [
    {
     "name": "stdout",
     "output_type": "stream",
     "text": [
      "Found chessboard corners in image\n",
      "Found chessboard corners in image\n",
      "Found chessboard corners in image\n",
      "Found chessboard corners in image\n",
      "Found chessboard corners in image\n",
      "Found chessboard corners in image\n",
      "Found chessboard corners in image\n",
      "Found chessboard corners in image\n",
      "Found chessboard corners in image\n",
      "Found chessboard corners in image\n",
      "Found chessboard corners in image\n",
      "Found chessboard corners in image\n",
      "Found chessboard corners in image\n",
      "Found chessboard corners in image\n",
      "Found chessboard corners in image\n",
      "Found chessboard corners in image\n",
      "Found chessboard corners in image\n",
      "Found chessboard corners in image\n",
      "Found chessboard corners in image\n",
      "Found chessboard corners in image\n",
      "Found chessboard corners in image\n",
      "Found chessboard corners in image\n",
      "Found chessboard corners in image\n",
      "Found chessboard corners in image\n",
      "Found chessboard corners in image\n",
      "Found chessboard corners in image\n",
      "Found chessboard corners in image\n",
      "Found chessboard corners in image\n",
      "Found chessboard corners in image\n",
      "29\n"
     ]
    }
   ],
   "source": [
    "objpoints = []\n",
    "imgpoints = []\n",
    "objp = np.zeros((9*6,3), np.float32)\n",
    "objp[:,:2] = np.mgrid[0:9,0:6].T.reshape(-1,2)\n",
    "\n",
    "for frame in representative_frames:\n",
    "    ret, img_pts = utils.find_chessboard_corners(frame, (9, 6))\n",
    "    if ret:    \n",
    "        objpoints.append(objp)\n",
    "        imgpoints.append(img_pts)\n",
    "\n",
    "print(len(imgpoints))"
   ]
  },
  {
   "cell_type": "code",
   "execution_count": 22,
   "id": "6b639438-ae79-47d0-a8e7-67b8d6f7a756",
   "metadata": {},
   "outputs": [],
   "source": [
    "ret, mtx, dist, rvecs, tvecs = cv2.calibrateCamera(objpoints, imgpoints, (640, 480), None, None)"
   ]
  },
  {
   "cell_type": "code",
   "execution_count": 23,
   "id": "74d307dc-0456-43e8-b539-7eaf37b2ad77",
   "metadata": {},
   "outputs": [
    {
     "data": {
      "text/plain": [
       "array([[574.01870681,   0.        , 328.90797846],\n",
       "       [  0.        , 573.7619472 , 243.81421652],\n",
       "       [  0.        ,   0.        ,   1.        ]])"
      ]
     },
     "execution_count": 23,
     "metadata": {},
     "output_type": "execute_result"
    }
   ],
   "source": [
    "mtx"
   ]
  },
  {
   "cell_type": "code",
   "execution_count": 24,
   "id": "4d95ab30-6e64-4fba-98a9-b271e28b6976",
   "metadata": {},
   "outputs": [
    {
     "data": {
      "text/plain": [
       "array([[ 3.10334662e-02,  6.15702392e-01,  8.31168943e-04,\n",
       "        -3.26508230e-04, -2.21216690e+00]])"
      ]
     },
     "execution_count": 24,
     "metadata": {},
     "output_type": "execute_result"
    }
   ],
   "source": [
    "dist"
   ]
  },
  {
   "cell_type": "code",
   "execution_count": 11,
   "id": "79cf91da-aee5-4048-8850-f6000b287579",
   "metadata": {},
   "outputs": [
    {
     "name": "stdout",
     "output_type": "stream",
     "text": [
      "total error: 0.01937013794166028\n"
     ]
    }
   ],
   "source": [
    "mean_error = 0\n",
    "errors     = []\n",
    "for i in range(len(objpoints)):\n",
    "    imgpoints2, _ = cv2.projectPoints(objpoints[i], rvecs[i], tvecs[i], mtx, dist)\n",
    "    error = cv2.norm(imgpoints[i], imgpoints2, cv2.NORM_L2)/len(imgpoints2)\n",
    "    errors.append(error)\n",
    "\n",
    "\n",
    "print( \"total error: {}\".format( np.sum(errors)/len(objpoints)) )"
   ]
  },
  {
   "cell_type": "code",
   "execution_count": 41,
   "id": "b042f87f-9999-4650-836f-f94ac5f4a639",
   "metadata": {},
   "outputs": [],
   "source": [
    "objpoints = np.array(objpoints)\n",
    "imgpoints = np.array(imgpoints)"
   ]
  },
  {
   "cell_type": "code",
   "execution_count": 44,
   "id": "2124c00b-91ac-4e89-9830-361b4fe879b0",
   "metadata": {},
   "outputs": [
    {
     "data": {
      "text/plain": [
       "(29, 54, 2)"
      ]
     },
     "execution_count": 44,
     "metadata": {},
     "output_type": "execute_result"
    }
   ],
   "source": [
    "objpoints2d = objpoints[:, :, :2].shape\n",
    "imgpoints2d = imgpoints.squeeze()\n",
    "\n"
   ]
  },
  {
   "cell_type": "code",
   "execution_count": 12,
   "id": "79f4330e-62c3-4849-8c47-45bce1282bd0",
   "metadata": {},
   "outputs": [
    {
     "data": {
      "text/plain": [
       "<matplotlib.collections.PathCollection at 0x7e3026820eb0>"
      ]
     },
     "execution_count": 12,
     "metadata": {},
     "output_type": "execute_result"
    },
    {
     "data": {
      "image/png": "[encoded data removed]",
      "text/plain": [
       "<Figure size 640x480 with 1 Axes>"
      ]
     },
     "metadata": {},
     "output_type": "display_data"
    }
   ],
   "source": [
    "plt.scatter([i for i in range(0, len(objpoints))], errors)"
   ]
  },
  {
   "cell_type": "code",
   "execution_count": null,
   "id": "aa483881-8c4a-42b8-99ca-4247f7d925b3",
   "metadata": {},
   "outputs": [],
   "source": []
  }
 ],
 "metadata": {
  "kernelspec": {
   "display_name": "Python 3 (ipykernel)",
   "language": "python",
   "name": "python3"
  },
  "language_info": {
   "codemirror_mode": {
    "name": "ipython",
    "version": 3
   },
   "file_extension": ".py",
   "mimetype": "text/x-python",
   "name": "python",
   "nbconvert_exporter": "python",
   "pygments_lexer": "ipython3",
   "version": "3.10.12"
  }
 },
 "nbformat": 4,
 "nbformat_minor": 5
}
