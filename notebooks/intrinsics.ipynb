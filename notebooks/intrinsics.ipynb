{
 "cells": [
  {
   "cell_type": "code",
   "execution_count": 1,
   "id": "07a23169-a324-4bae-819b-9272caee929e",
   "metadata": {},
   "outputs": [],
   "source": [
    "import numpy as np"
   ]
  },
  {
   "cell_type": "code",
   "execution_count": 4,
   "id": "2e7de43a-834d-4f64-a8d0-41adc195b734",
   "metadata": {},
   "outputs": [
    {
     "data": {
      "text/plain": [
       "array([[ 4.23236064e-02,  4.52591853e-01,  1.06242035e-03,\n",
       "        -5.32237086e-04, -1.64887082e+00]])"
      ]
     },
     "execution_count": 4,
     "metadata": {},
     "output_type": "execute_result"
    }
   ],
   "source": [
    "dist = np.load(\"../data/intrinsics/dist.npy\")\n",
    "dist"
   ]
  },
  {
   "cell_type": "code",
   "execution_count": 5,
   "id": "d7b707b9-6d3d-4a25-918b-a0cc22d4e7ce",
   "metadata": {},
   "outputs": [
    {
     "data": {
      "text/plain": [
       "array([[571.53917026,   0.        , 328.13762744],\n",
       "       [  0.        , 571.05910814, 245.30183519],\n",
       "       [  0.        ,   0.        ,   1.        ]])"
      ]
     },
     "execution_count": 5,
     "metadata": {},
     "output_type": "execute_result"
    }
   ],
   "source": [
    "mtx = np.load(\"../data/intrinsics/mtx.npy\")\n",
    "mtx"
   ]
  },
  {
   "cell_type": "code",
   "execution_count": 7,
   "id": "d94fda3c-4720-409a-8820-528bd6744940",
   "metadata": {},
   "outputs": [],
   "source": [
    "data = np.load(\"../data/intrinsics/intrinsics.npz\")"
   ]
  },
  {
   "cell_type": "code",
   "execution_count": 9,
   "id": "f69f6fdd-8aad-48db-8381-ee438bce2f76",
   "metadata": {},
   "outputs": [
    {
     "data": {
      "text/plain": [
       "(array([[574.01870681,   0.        , 328.90797846],\n",
       "        [  0.        , 573.7619472 , 243.81421652],\n",
       "        [  0.        ,   0.        ,   1.        ]]),\n",
       " array([[ 3.10334662e-02,  6.15702392e-01,  8.31168943e-04,\n",
       "         -3.26508230e-04, -2.21216690e+00]]))"
      ]
     },
     "execution_count": 9,
     "metadata": {},
     "output_type": "execute_result"
    }
   ],
   "source": [
    "data[\"mtx\"], data[\"dist\"]"
   ]
  },
  {
   "cell_type": "code",
   "execution_count": null,
   "id": "620d54d9-0fbf-4242-995a-3dbda5bba1a5",
   "metadata": {},
   "outputs": [],
   "source": []
  }
 ],
 "metadata": {
  "kernelspec": {
   "display_name": "Python 3 (ipykernel)",
   "language": "python",
   "name": "python3"
  },
  "language_info": {
   "codemirror_mode": {
    "name": "ipython",
    "version": 3
   },
   "file_extension": ".py",
   "mimetype": "text/x-python",
   "name": "python",
   "nbconvert_exporter": "python",
   "pygments_lexer": "ipython3",
   "version": "3.10.12"
  }
 },
 "nbformat": 4,
 "nbformat_minor": 5
}
