{
 "cells": [
  {
   "cell_type": "code",
   "execution_count": 88,
   "id": "e6e557ba-041d-4eea-98d5-9fed1173ded5",
   "metadata": {},
   "outputs": [],
   "source": [
    "import matplotlib.pyplot as plt\n",
    "import numpy as np\n",
    "import cv2\n",
    "import open3d as o3d"
   ]
  },
  {
   "cell_type": "code",
   "execution_count": 89,
   "id": "5772f754-bd7c-4967-97e1-fb4e0b009738",
   "metadata": {},
   "outputs": [],
   "source": [
    "tool_2 = o3d.io.read_triangle_mesh(\"/calibration/objects/tools/tool_2.stl\")"
   ]
  },
  {
   "cell_type": "code",
   "execution_count": 90,
   "id": "d2478440-73ea-4de2-a373-799c3a868aed",
   "metadata": {},
   "outputs": [],
   "source": [
    "o3d.visualization.draw_geometries([tool_2])"
   ]
  },
  {
   "cell_type": "markdown",
   "id": "13e8da1d-6ab1-498f-8945-466c0e42d37d",
   "metadata": {},
   "source": [
    "# 1. Pointcloud postprocessing"
   ]
  },
  {
   "cell_type": "markdown",
   "id": "98b6bea8-512c-4cb3-9d7a-b25c1eae4e2c",
   "metadata": {},
   "source": [
    "### Outlier rejection"
   ]
  },
  {
   "cell_type": "code",
   "execution_count": 116,
   "id": "a0641e23-0e2b-4470-8179-67b1a23a3276",
   "metadata": {},
   "outputs": [],
   "source": [
    "ply_file_path = \"/calibration/data/scanner/stitched_pc.ply\"  # Replace with your .ply file path\n",
    "pcd = o3d.io.read_point_cloud(ply_file_path)\n",
    "# Apply a transformation if needed (e.g., rotating or translating the point cloud)\n",
    "# For example, a 90-degree rotation around the x-axis can be done as follows:\n",
    "rotation_matrix = pcd.get_rotation_matrix_from_xyz((np.pi / 2, np.pi, 0))\n",
    "pcd.rotate(rotation_matrix, center=(0, 0, 0))\n",
    "\n",
    "o3d.visualization.draw_geometries([pcd])"
   ]
  },
  {
   "cell_type": "code",
   "execution_count": 123,
   "id": "aa822fb4-2cc7-496c-9a07-f6b5662659c5",
   "metadata": {},
   "outputs": [],
   "source": [
    "def display_inlier_outlier(cloud, ind):\n",
    "    \n",
    "    inlier_cloud = cloud.select_by_index(ind)\n",
    "    outlier_cloud = cloud.select_by_index(ind, invert=True)\n",
    "\n",
    "    print(\"Showing outliers (red) and inliers (gray): \")\n",
    "    outlier_cloud.paint_uniform_color([1, 0, 0])\n",
    "    o3d.visualization.draw_geometries([inlier_cloud, outlier_cloud])"
   ]
  },
  {
   "cell_type": "code",
   "execution_count": 126,
   "id": "e0161cd1-aeae-42fb-b8bf-fa82d72ef4df",
   "metadata": {},
   "outputs": [
    {
     "name": "stdout",
     "output_type": "stream",
     "text": [
      "Showing outliers (red) and inliers (gray): \n"
     ]
    }
   ],
   "source": [
    "cleaned_pcd, ind = pcd.remove_statistical_outlier(\n",
    "    nb_neighbors=20,\n",
    "    std_ratio=1.5\n",
    ")\n",
    "\n",
    "display_inlier_outlier(pcd, ind)"
   ]
  },
  {
   "cell_type": "markdown",
   "id": "8e62495c-b663-476a-a5fc-f21557175113",
   "metadata": {},
   "source": [
    "### ROI filtering"
   ]
  },
  {
   "cell_type": "code",
   "execution_count": 232,
   "id": "2e6dc273-fea0-4372-b86b-75b9d759a71a",
   "metadata": {},
   "outputs": [],
   "source": [
    "TOOLS_MIN_LENGTH = 0.02\n",
    "TOOLS_MAX_LENGTH = 0.03\n",
    "# OPTIONAL\n",
    "CLIP_FLOOR       = 0.008"
   ]
  },
  {
   "cell_type": "code",
   "execution_count": 233,
   "id": "ed85e53e-cd39-47fd-9174-d787128ff681",
   "metadata": {},
   "outputs": [],
   "source": [
    "points = np.asarray(cleaned_pcd.points)\n",
    "colors = np.asarray(cleaned_pcd.colors)"
   ]
  },
  {
   "cell_type": "code",
   "execution_count": 234,
   "id": "fc776cc5-19eb-45f5-acea-0a906972bcb3",
   "metadata": {},
   "outputs": [],
   "source": [
    "farest_distance = np.min(points[:, 2])\n",
    "lowest_distance = np.min(points[:,1])\n",
    "\n",
    "# Remove background noise\n",
    "bg_mask = np.array([points[:, 2] >= farest_distance + (TOOLS_MIN_LENGTH - 0.1 * TOOLS_MIN_LENGTH)])\n",
    "\n",
    "# Remove foreground noise\n",
    "fg_mask = np.array([points[:, 2] <= farest_distance + TOOLS_MAX_LENGTH])\n",
    "\n",
    "# Remove floor noise\n",
    "fl_mask =  np.array([points[:, 1] >= lowest_distance + CLIP_FLOOR])\n",
    "\n",
    "\n",
    "filtered_mask = (fg_mask & bg_mask & fl_mask).flatten()"
   ]
  },
  {
   "cell_type": "code",
   "execution_count": 235,
   "id": "edd0c514-ea60-4e06-bc88-ef0a0268932e",
   "metadata": {},
   "outputs": [],
   "source": [
    "# Filter out points below the Z threshold\n",
    "filtered_points = points[filtered_mask]\n",
    "filtered_colors = colors[filtered_mask]\n",
    "\n",
    "# Create a new point cloud with the filtered points\n",
    "filtered_point_cloud = o3d.geometry.PointCloud()\n",
    "filtered_point_cloud.points = o3d.utility.Vector3dVector(filtered_points)\n",
    "filtered_point_cloud.colors = o3d.utility.Vector3dVector(filtered_colors)\n",
    "\n",
    "# Visualize the filtered point cloud\n",
    "o3d.visualization.draw_geometries([filtered_point_cloud])"
   ]
  },
  {
   "cell_type": "markdown",
   "id": "4109d24c-3963-4699-9eb2-b3698234d806",
   "metadata": {},
   "source": [
    "### Tool recognition"
   ]
  },
  {
   "cell_type": "code",
   "execution_count": 242,
   "id": "a42acc61-360d-428a-8cf0-579d2e93393b",
   "metadata": {},
   "outputs": [],
   "source": [
    "tool_2 = o3d.io.read_triangle_mesh(\"/calibration/objects/tools/tool_2.stl\")\n",
    "o3d.visualization.draw_geometries([tool_2])"
   ]
  },
  {
   "cell_type": "code",
   "execution_count": null,
   "id": "b63844a0-b1b2-4cc0-802e-d66d8a324031",
   "metadata": {},
   "outputs": [],
   "source": [
    "tool_2.compute_vertex_normals()\n",
    "pcd_tool = tool_2.sample_points_poisson_disk(3000)\n",
    "o3d.visualization.draw_geometries([pcd_tool])"
   ]
  },
  {
   "cell_type": "code",
   "execution_count": null,
   "id": "a1be614c-e027-41cf-a261-49f1c62ef1b4",
   "metadata": {},
   "outputs": [],
   "source": []
  }
 ],
 "metadata": {
  "kernelspec": {
   "display_name": "Python 3 (ipykernel)",
   "language": "python",
   "name": "python3"
  },
  "language_info": {
   "codemirror_mode": {
    "name": "ipython",
    "version": 3
   },
   "file_extension": ".py",
   "mimetype": "text/x-python",
   "name": "python",
   "nbconvert_exporter": "python",
   "pygments_lexer": "ipython3",
   "version": "3.10.12"
  }
 },
 "nbformat": 4,
 "nbformat_minor": 5
}
