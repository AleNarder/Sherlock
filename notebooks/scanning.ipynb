{
 "cells": [
  {
   "cell_type": "code",
   "execution_count": 1,
   "id": "9af42695-a492-4fbc-9633-73c85e4b05a0",
   "metadata": {},
   "outputs": [
    {
     "name": "stdout",
     "output_type": "stream",
     "text": [
      "Jupyter environment detected. Enabling Open3D WebVisualizer.\n",
      "[Open3D INFO] WebRTC GUI backend enabled.\n",
      "[Open3D INFO] WebRTCWindowSystem: HTTP handshake server disabled.\n"
     ]
    }
   ],
   "source": [
    "import numpy as np\n",
    "import matplotlib.pyplot as plt\n",
    "import open3d as o3d\n",
    "import cv2\n",
    "import os"
   ]
  },
  {
   "cell_type": "code",
   "execution_count": 2,
   "id": "7ae22457-cf59-4da1-a0e1-3d25da74ba1d",
   "metadata": {},
   "outputs": [],
   "source": [
    "pc_colors = np.load(\"/calibration/data/scanner/pc_colors.npy\", allow_pickle=True)\n",
    "pc_points = np.load(\"/calibration/data/scanner/pc_points.npy\", allow_pickle=True)"
   ]
  },
  {
   "cell_type": "code",
   "execution_count": 3,
   "id": "da99cd01-1aee-4e06-8b32-a2a3d0b1f169",
   "metadata": {},
   "outputs": [],
   "source": [
    "def visualize_pc (pc):\n",
    "    # Visualize the centered point cloud and the coordinate frame\n",
    "    vis = o3d.visualization.Visualizer()\n",
    "    vis.create_window()\n",
    "\n",
    "    vis.add_geometry(pc)\n",
    "\n",
    "    # vis.add_geometry(coordinate_frame)\n",
    "    vis.run()\n",
    "    vis.destroy_window()"
   ]
  },
  {
   "cell_type": "code",
   "execution_count": null,
   "id": "0c29322c-ad55-4187-b001-cdb2fb80441e",
   "metadata": {},
   "outputs": [],
   "source": [
    "for i in range(0, len(pc_points), 2):\n",
    "\n",
    "    source_pts    = pc_points[i - 1]\n",
    "    source_colors = pc_points[i - 1]\n",
    "    source_pcd    = o3d.geometry.PointCloud()\n",
    "    \n",
    "    target_pts    = pc_points[i]\n",
    "    target_colors = pc_points[i]\n",
    "    target_pcd    = o3d.geometry.PointCloud()\n",
    "\n",
    "\n",
    "    \n",
    "    result_icp = o3d.pipelines.registration.registration_icp(\n",
    "    source, target, 0.02, np.eye(4),\n",
    "    o3d.pipelines.registration.TransformationEstimationPointToPlane())"
   ]
  },
  {
   "cell_type": "code",
   "execution_count": 52,
   "id": "0152995c-afc7-4e7c-ac53-a0f609914610",
   "metadata": {},
   "outputs": [],
   "source": [
    "raw_pc = o3d.geometry.PointCloud()\n",
    "\n",
    "for points, colors in zip(pc_points, pc_colors):\n",
    "    pc = o3d.geometry.PointCloud()\n",
    "    centered = points - np.mean(points, axis = 0)\n",
    "    valid = abs(centered[:, 0]) < 0.045\n",
    "    pc.points = o3d.utility.Vector3dVector(points[valid])\n",
    "    pc.colors = o3d.utility.Vector3dVector(colors[valid])\n",
    "    raw_pc += cleaned_pcd\n",
    "    \n",
    "visualize_pc(raw_pc)"
   ]
  },
  {
   "cell_type": "code",
   "execution_count": 47,
   "id": "45502671-0cb3-4413-b179-96ad4f91ee4f",
   "metadata": {},
   "outputs": [],
   "source": [
    "cleaned_pcd = raw_pc\n",
    "\n",
    "cleaned_pcd, ind = cleaned_pcd.remove_statistical_outlier(\n",
    "    nb_neighbors=10,\n",
    "    std_ratio=2.5\n",
    ")\n",
    "\n",
    "visualize_pc(cleaned_pcd)"
   ]
  },
  {
   "cell_type": "code",
   "execution_count": 45,
   "id": "903e15dd-bbde-4c96-827c-6c14821349d2",
   "metadata": {},
   "outputs": [],
   "source": [
    "radius_cleaned_pcd, _ = cleaned_pcd.remove_radius_outlier(nb_points=10, radius=0.005)\n",
    "visualize_pc(radius_cleaned_pcd)"
   ]
  },
  {
   "cell_type": "code",
   "execution_count": 46,
   "id": "dcf3690d-556b-4596-93e3-0ba3cc83ab5e",
   "metadata": {},
   "outputs": [
    {
     "data": {
      "text/plain": [
       "True"
      ]
     },
     "execution_count": 46,
     "metadata": {},
     "output_type": "execute_result"
    }
   ],
   "source": [
    "o3d.io.write_point_cloud(os.path.join(\"/\", \"calibration\", \"data\", \"scanner\", \"cleaned_pc.ply\"), cleaned_pcd)"
   ]
  },
  {
   "cell_type": "code",
   "execution_count": null,
   "id": "f51b58c1-0d72-450f-8837-7db432238589",
   "metadata": {},
   "outputs": [],
   "source": []
  }
 ],
 "metadata": {
  "kernelspec": {
   "display_name": "Python 3 (ipykernel)",
   "language": "python",
   "name": "python3"
  },
  "language_info": {
   "codemirror_mode": {
    "name": "ipython",
    "version": 3
   },
   "file_extension": ".py",
   "mimetype": "text/x-python",
   "name": "python",
   "nbconvert_exporter": "python",
   "pygments_lexer": "ipython3",
   "version": "3.10.12"
  }
 },
 "nbformat": 4,
 "nbformat_minor": 5
}
